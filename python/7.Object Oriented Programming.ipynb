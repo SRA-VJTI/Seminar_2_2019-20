{
 "cells": [
  {
   "cell_type": "code",
   "execution_count": null,
   "metadata": {
    "collapsed": true
   },
   "outputs": [],
   "source": []
  },
  {
   "cell_type": "markdown",
   "metadata": {},
   "source": [
    "# To Learn:\n",
    "\n",
    "Attributes and class keyword\n",
    "\n",
    "class object attributes and methods\n",
    "\n",
    "OOP- Inheritance and polymorphism\n",
    "\n",
    "OOP- special methods (Magic/Dunder)\n",
    "\n"
   ]
  },
  {
   "cell_type": "code",
   "execution_count": null,
   "metadata": {
    "collapsed": true
   },
   "outputs": [],
   "source": []
  },
  {
   "cell_type": "markdown",
   "metadata": {},
   "source": [
    "OOP allows programmers to create their own objects\n",
    "that methods and attributes\n",
    "\n",
    "Its a great way to organize your code\n",
    "\n",
    "Note: Recall that after defining a string, list, dictionary, or any \n",
    "other objects, we can call methods off of them with \n",
    "the .method_name() syntax (example: append method off of a list\n",
    "object, index method off of a tuple)\n",
    "\n",
    "These methods act as functions that use information about the object,\n",
    "as well as the object itself to return results, or change the current object\n",
    "\n",
    "For eg. appending to a list, or counting the occurences of an element in a tuple"
   ]
  },
  {
   "cell_type": "markdown",
   "metadata": {},
   "source": [
    "OOP allows users to create their own objects.\n",
    "\n",
    "IN general, OOP allows us to create code that is\n",
    "repeatable and organized\n",
    "\n",
    "For much larger scripts of python code, function by themselves arent\n",
    "enough for organization and repeatability\n",
    "\n",
    "Commonly repeated tasks and objects can be defined with OOP\n",
    "to create a code that is more usable"
   ]
  },
  {
   "cell_type": "code",
   "execution_count": 1,
   "metadata": {
    "collapsed": true
   },
   "outputs": [],
   "source": [
    "\n",
    "\n",
    "class NameOfClass(): ## sometimes, classes are also called classes\n",
    "    \n",
    "    def __init__(self, param1, param2):  ## SPecial method called init\n",
    "## this allows you to create an instance of the actual object\n",
    "        self.param1 = param1            \n",
    "        self.param2 = param2\n",
    "        \n",
    "    \n",
    "    def some_method(self):\n",
    "        #perform some action\n",
    "        print(self.param1)"
   ]
  },
  {
   "cell_type": "markdown",
   "metadata": {},
   "source": [
    "# Attributes and Class Keyword"
   ]
  },
  {
   "cell_type": "code",
   "execution_count": 2,
   "metadata": {
    "collapsed": true
   },
   "outputs": [],
   "source": [
    "## Focus on class keyword and creating attributes for our objects"
   ]
  },
  {
   "cell_type": "code",
   "execution_count": 3,
   "metadata": {
    "collapsed": true
   },
   "outputs": [],
   "source": [
    "mylist = [1,2,3]"
   ]
  },
  {
   "cell_type": "code",
   "execution_count": 4,
   "metadata": {
    "collapsed": true
   },
   "outputs": [],
   "source": [
    "# mylist.       hit tab to see all the attributes and methods"
   ]
  },
  {
   "cell_type": "code",
   "execution_count": 5,
   "metadata": {},
   "outputs": [
    {
     "data": {
      "text/plain": [
       "list"
      ]
     },
     "execution_count": 5,
     "metadata": {},
     "output_type": "execute_result"
    }
   ],
   "source": [
    "# we will try to create our own user defined objects\n",
    "# everything in python is a type of object.\n",
    "# For eg:\n",
    "\n",
    "type(mylist)   ## Note list is built-in object"
   ]
  },
  {
   "cell_type": "code",
   "execution_count": null,
   "metadata": {
    "collapsed": true
   },
   "outputs": [],
   "source": [
    "# lets see how we can use the class keyword to create a user\n",
    "# defined object\n",
    "\n"
   ]
  }
 ],
 "metadata": {
  "kernelspec": {
   "display_name": "Python 3",
   "language": "python",
   "name": "python3"
  },
  "language_info": {
   "codemirror_mode": {
    "name": "ipython",
    "version": 3
   },
   "file_extension": ".py",
   "mimetype": "text/x-python",
   "name": "python",
   "nbconvert_exporter": "python",
   "pygments_lexer": "ipython3",
   "version": "3.6.2"
  }
 },
 "nbformat": 4,
 "nbformat_minor": 2
}
